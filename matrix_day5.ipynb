{
  "nbformat": 4,
  "nbformat_minor": 0,
  "metadata": {
    "colab": {
      "name": "matrix_day5.ipynb",
      "provenance": [],
      "collapsed_sections": [],
      "mount_file_id": "1odnxUE_O1H1gY5Ha3usodZ5w8izxEkDI",
      "authorship_tag": "ABX9TyOmwhYAFpcakIaWTgiBY2TN",
      "include_colab_link": true
    },
    "kernelspec": {
      "name": "python3",
      "display_name": "Python 3"
    },
    "widgets": {
      "application/vnd.jupyter.widget-state+json": {
        "b1a5b71cb639430d970d65e7554e6e2f": {
          "model_module": "@jupyter-widgets/controls",
          "model_name": "HBoxModel",
          "state": {
            "_view_name": "HBoxView",
            "_dom_classes": [],
            "_model_name": "HBoxModel",
            "_view_module": "@jupyter-widgets/controls",
            "_model_module_version": "1.5.0",
            "_view_count": null,
            "_view_module_version": "1.5.0",
            "box_style": "",
            "layout": "IPY_MODEL_4be989dc3c16464dbfe137d865055fb2",
            "_model_module": "@jupyter-widgets/controls",
            "children": [
              "IPY_MODEL_39f96d82c1d1493092efa308b79bce10",
              "IPY_MODEL_76f1e073335d4dadaffb2456f5b20d3a"
            ]
          }
        },
        "4be989dc3c16464dbfe137d865055fb2": {
          "model_module": "@jupyter-widgets/base",
          "model_name": "LayoutModel",
          "state": {
            "_view_name": "LayoutView",
            "grid_template_rows": null,
            "right": null,
            "justify_content": null,
            "_view_module": "@jupyter-widgets/base",
            "overflow": null,
            "_model_module_version": "1.2.0",
            "_view_count": null,
            "flex_flow": null,
            "width": null,
            "min_width": null,
            "border": null,
            "align_items": null,
            "bottom": null,
            "_model_module": "@jupyter-widgets/base",
            "top": null,
            "grid_column": null,
            "overflow_y": null,
            "overflow_x": null,
            "grid_auto_flow": null,
            "grid_area": null,
            "grid_template_columns": null,
            "flex": null,
            "_model_name": "LayoutModel",
            "justify_items": null,
            "grid_row": null,
            "max_height": null,
            "align_content": null,
            "visibility": null,
            "align_self": null,
            "height": null,
            "min_height": null,
            "padding": null,
            "grid_auto_rows": null,
            "grid_gap": null,
            "max_width": null,
            "order": null,
            "_view_module_version": "1.2.0",
            "grid_template_areas": null,
            "object_position": null,
            "object_fit": null,
            "grid_auto_columns": null,
            "margin": null,
            "display": null,
            "left": null
          }
        },
        "39f96d82c1d1493092efa308b79bce10": {
          "model_module": "@jupyter-widgets/controls",
          "model_name": "IntProgressModel",
          "state": {
            "_view_name": "ProgressView",
            "style": "IPY_MODEL_ed3a29c2aba2432fae79d4f3b1f375a5",
            "_dom_classes": [],
            "description": "",
            "_model_name": "IntProgressModel",
            "bar_style": "success",
            "max": 476,
            "_view_module": "@jupyter-widgets/controls",
            "_model_module_version": "1.5.0",
            "value": 476,
            "_view_count": null,
            "_view_module_version": "1.5.0",
            "orientation": "horizontal",
            "min": 0,
            "description_tooltip": null,
            "_model_module": "@jupyter-widgets/controls",
            "layout": "IPY_MODEL_ebf261d44cc946f090e51974541c93d8"
          }
        },
        "76f1e073335d4dadaffb2456f5b20d3a": {
          "model_module": "@jupyter-widgets/controls",
          "model_name": "HTMLModel",
          "state": {
            "_view_name": "HTMLView",
            "style": "IPY_MODEL_cc739dffb57e4b27b6bbc8caad793e08",
            "_dom_classes": [],
            "description": "",
            "_model_name": "HTMLModel",
            "placeholder": "​",
            "_view_module": "@jupyter-widgets/controls",
            "_model_module_version": "1.5.0",
            "value": "100% 476/476 [00:03&lt;00:00, 125.10it/s]",
            "_view_count": null,
            "_view_module_version": "1.5.0",
            "description_tooltip": null,
            "_model_module": "@jupyter-widgets/controls",
            "layout": "IPY_MODEL_b7a3f33dc906460294c2e022d7acddfc"
          }
        },
        "ed3a29c2aba2432fae79d4f3b1f375a5": {
          "model_module": "@jupyter-widgets/controls",
          "model_name": "ProgressStyleModel",
          "state": {
            "_view_name": "StyleView",
            "_model_name": "ProgressStyleModel",
            "description_width": "",
            "_view_module": "@jupyter-widgets/base",
            "_model_module_version": "1.5.0",
            "_view_count": null,
            "_view_module_version": "1.2.0",
            "bar_color": null,
            "_model_module": "@jupyter-widgets/controls"
          }
        },
        "ebf261d44cc946f090e51974541c93d8": {
          "model_module": "@jupyter-widgets/base",
          "model_name": "LayoutModel",
          "state": {
            "_view_name": "LayoutView",
            "grid_template_rows": null,
            "right": null,
            "justify_content": null,
            "_view_module": "@jupyter-widgets/base",
            "overflow": null,
            "_model_module_version": "1.2.0",
            "_view_count": null,
            "flex_flow": null,
            "width": null,
            "min_width": null,
            "border": null,
            "align_items": null,
            "bottom": null,
            "_model_module": "@jupyter-widgets/base",
            "top": null,
            "grid_column": null,
            "overflow_y": null,
            "overflow_x": null,
            "grid_auto_flow": null,
            "grid_area": null,
            "grid_template_columns": null,
            "flex": null,
            "_model_name": "LayoutModel",
            "justify_items": null,
            "grid_row": null,
            "max_height": null,
            "align_content": null,
            "visibility": null,
            "align_self": null,
            "height": null,
            "min_height": null,
            "padding": null,
            "grid_auto_rows": null,
            "grid_gap": null,
            "max_width": null,
            "order": null,
            "_view_module_version": "1.2.0",
            "grid_template_areas": null,
            "object_position": null,
            "object_fit": null,
            "grid_auto_columns": null,
            "margin": null,
            "display": null,
            "left": null
          }
        },
        "cc739dffb57e4b27b6bbc8caad793e08": {
          "model_module": "@jupyter-widgets/controls",
          "model_name": "DescriptionStyleModel",
          "state": {
            "_view_name": "StyleView",
            "_model_name": "DescriptionStyleModel",
            "description_width": "",
            "_view_module": "@jupyter-widgets/base",
            "_model_module_version": "1.5.0",
            "_view_count": null,
            "_view_module_version": "1.2.0",
            "_model_module": "@jupyter-widgets/controls"
          }
        },
        "b7a3f33dc906460294c2e022d7acddfc": {
          "model_module": "@jupyter-widgets/base",
          "model_name": "LayoutModel",
          "state": {
            "_view_name": "LayoutView",
            "grid_template_rows": null,
            "right": null,
            "justify_content": null,
            "_view_module": "@jupyter-widgets/base",
            "overflow": null,
            "_model_module_version": "1.2.0",
            "_view_count": null,
            "flex_flow": null,
            "width": null,
            "min_width": null,
            "border": null,
            "align_items": null,
            "bottom": null,
            "_model_module": "@jupyter-widgets/base",
            "top": null,
            "grid_column": null,
            "overflow_y": null,
            "overflow_x": null,
            "grid_auto_flow": null,
            "grid_area": null,
            "grid_template_columns": null,
            "flex": null,
            "_model_name": "LayoutModel",
            "justify_items": null,
            "grid_row": null,
            "max_height": null,
            "align_content": null,
            "visibility": null,
            "align_self": null,
            "height": null,
            "min_height": null,
            "padding": null,
            "grid_auto_rows": null,
            "grid_gap": null,
            "max_width": null,
            "order": null,
            "_view_module_version": "1.2.0",
            "grid_template_areas": null,
            "object_position": null,
            "object_fit": null,
            "grid_auto_columns": null,
            "margin": null,
            "display": null,
            "left": null
          }
        }
      }
    }
  },
  "cells": [
    {
      "cell_type": "markdown",
      "metadata": {
        "id": "view-in-github",
        "colab_type": "text"
      },
      "source": [
        "<a href=\"https://colab.research.google.com/github/slszymborski/dw_matrix/blob/master/matrix_day5.ipynb\" target=\"_parent\"><img src=\"https://colab.research.google.com/assets/colab-badge.svg\" alt=\"Open In Colab\"/></a>"
      ]
    },
    {
      "cell_type": "code",
      "metadata": {
        "id": "qybdy6IZ8sdI",
        "colab_type": "code",
        "outputId": "49636ddf-4f95-4adb-843c-3ee7d17071db",
        "colab": {
          "base_uri": "https://localhost:8080/",
          "height": 313
        }
      },
      "source": [
        "!pip install eli5"
      ],
      "execution_count": 2,
      "outputs": [
        {
          "output_type": "stream",
          "text": [
            "Collecting eli5\n",
            "\u001b[?25l  Downloading https://files.pythonhosted.org/packages/97/2f/c85c7d8f8548e460829971785347e14e45fa5c6617da374711dec8cb38cc/eli5-0.10.1-py2.py3-none-any.whl (105kB)\n",
            "\r\u001b[K     |███                             | 10kB 18.7MB/s eta 0:00:01\r\u001b[K     |██████▏                         | 20kB 1.8MB/s eta 0:00:01\r\u001b[K     |█████████▎                      | 30kB 2.3MB/s eta 0:00:01\r\u001b[K     |████████████▍                   | 40kB 1.7MB/s eta 0:00:01\r\u001b[K     |███████████████▌                | 51kB 1.9MB/s eta 0:00:01\r\u001b[K     |██████████████████▋             | 61kB 2.3MB/s eta 0:00:01\r\u001b[K     |█████████████████████▊          | 71kB 2.5MB/s eta 0:00:01\r\u001b[K     |████████████████████████▊       | 81kB 2.7MB/s eta 0:00:01\r\u001b[K     |███████████████████████████▉    | 92kB 3.0MB/s eta 0:00:01\r\u001b[K     |███████████████████████████████ | 102kB 2.9MB/s eta 0:00:01\r\u001b[K     |████████████████████████████████| 112kB 2.9MB/s \n",
            "\u001b[?25hRequirement already satisfied: attrs>16.0.0 in /usr/local/lib/python3.6/dist-packages (from eli5) (19.3.0)\n",
            "Requirement already satisfied: tabulate>=0.7.7 in /usr/local/lib/python3.6/dist-packages (from eli5) (0.8.6)\n",
            "Requirement already satisfied: graphviz in /usr/local/lib/python3.6/dist-packages (from eli5) (0.10.1)\n",
            "Requirement already satisfied: six in /usr/local/lib/python3.6/dist-packages (from eli5) (1.12.0)\n",
            "Requirement already satisfied: jinja2 in /usr/local/lib/python3.6/dist-packages (from eli5) (2.11.1)\n",
            "Requirement already satisfied: scikit-learn>=0.18 in /usr/local/lib/python3.6/dist-packages (from eli5) (0.22.1)\n",
            "Requirement already satisfied: numpy>=1.9.0 in /usr/local/lib/python3.6/dist-packages (from eli5) (1.17.5)\n",
            "Requirement already satisfied: scipy in /usr/local/lib/python3.6/dist-packages (from eli5) (1.4.1)\n",
            "Requirement already satisfied: MarkupSafe>=0.23 in /usr/local/lib/python3.6/dist-packages (from jinja2->eli5) (1.1.1)\n",
            "Requirement already satisfied: joblib>=0.11 in /usr/local/lib/python3.6/dist-packages (from scikit-learn>=0.18->eli5) (0.14.1)\n",
            "Installing collected packages: eli5\n",
            "Successfully installed eli5-0.10.1\n"
          ],
          "name": "stdout"
        }
      ]
    },
    {
      "cell_type": "code",
      "metadata": {
        "id": "h5QoDVyi9CjB",
        "colab_type": "code",
        "colab": {
          "base_uri": "https://localhost:8080/",
          "height": 177
        },
        "outputId": "fd086805-94a1-46da-89d3-316ee21f448a"
      },
      "source": [
        "import pandas as pd\n",
        "import numpy as np\n",
        "from sklearn.ensemble import RandomForestRegressor\n",
        "from sklearn.tree import DecisionTreeRegressor\n",
        "from sklearn.metrics import mean_absolute_error\n",
        "from sklearn.model_selection import cross_val_score\n",
        "import eli5\n",
        "from eli5.sklearn import PermutationImportance\n",
        "from ast import literal_eval\n",
        "from tqdm import tqdm_notebook"
      ],
      "execution_count": 3,
      "outputs": [
        {
          "output_type": "stream",
          "text": [
            "/usr/local/lib/python3.6/dist-packages/sklearn/utils/deprecation.py:144: FutureWarning: The sklearn.metrics.scorer module is  deprecated in version 0.22 and will be removed in version 0.24. The corresponding classes / functions should instead be imported from sklearn.metrics. Anything that cannot be imported from sklearn.metrics is now part of the private API.\n",
            "  warnings.warn(message, FutureWarning)\n",
            "/usr/local/lib/python3.6/dist-packages/sklearn/utils/deprecation.py:144: FutureWarning: The sklearn.feature_selection.base module is  deprecated in version 0.22 and will be removed in version 0.24. The corresponding classes / functions should instead be imported from sklearn.feature_selection. Anything that cannot be imported from sklearn.feature_selection is now part of the private API.\n",
            "  warnings.warn(message, FutureWarning)\n",
            "Using TensorFlow backend.\n"
          ],
          "name": "stderr"
        },
        {
          "output_type": "display_data",
          "data": {
            "text/html": [
              "<p style=\"color: red;\">\n",
              "The default version of TensorFlow in Colab will soon switch to TensorFlow 2.x.<br>\n",
              "We recommend you <a href=\"https://www.tensorflow.org/guide/migrate\" target=\"_blank\">upgrade</a> now \n",
              "or ensure your notebook will continue to use TensorFlow 1.x via the <code>%tensorflow_version 1.x</code> magic:\n",
              "<a href=\"https://colab.research.google.com/notebooks/tensorflow_version.ipynb\" target=\"_blank\">more info</a>.</p>\n"
            ],
            "text/plain": [
              "<IPython.core.display.HTML object>"
            ]
          },
          "metadata": {
            "tags": []
          }
        }
      ]
    },
    {
      "cell_type": "code",
      "metadata": {
        "id": "ZvsAQhr_-B-X",
        "colab_type": "code",
        "outputId": "9685ba98-b336-4680-c4fc-06137c2d2e48",
        "colab": {
          "base_uri": "https://localhost:8080/",
          "height": 35
        }
      },
      "source": [
        "cd \"/content/drive/My Drive/Colab Notebooks/dw_matrix\""
      ],
      "execution_count": 4,
      "outputs": [
        {
          "output_type": "stream",
          "text": [
            "/content/drive/My Drive/Colab Notebooks/dw_matrix\n"
          ],
          "name": "stdout"
        }
      ]
    },
    {
      "cell_type": "code",
      "metadata": {
        "id": "iz43DxjQ-aPI",
        "colab_type": "code",
        "colab": {}
      },
      "source": [
        "df = pd.read_csv('data/men_shoes.csv' , low_memory=False)"
      ],
      "execution_count": 0,
      "outputs": []
    },
    {
      "cell_type": "code",
      "metadata": {
        "id": "D0Xam2-h-0Kv",
        "colab_type": "code",
        "outputId": "c8134c6a-de0c-41e3-c94d-980d29c4a3a9",
        "colab": {
          "base_uri": "https://localhost:8080/",
          "height": 237
        }
      },
      "source": [
        "df.columns"
      ],
      "execution_count": 6,
      "outputs": [
        {
          "output_type": "execute_result",
          "data": {
            "text/plain": [
              "Index(['id', 'asins', 'brand', 'categories', 'colors', 'count', 'dateadded',\n",
              "       'dateupdated', 'descriptions', 'dimension', 'ean', 'features',\n",
              "       'flavors', 'imageurls', 'isbn', 'keys', 'manufacturer',\n",
              "       'manufacturernumber', 'merchants', 'name', 'prices_amountmin',\n",
              "       'prices_amountmax', 'prices_availability', 'prices_color',\n",
              "       'prices_condition', 'prices_count', 'prices_currency',\n",
              "       'prices_dateadded', 'prices_dateseen', 'prices_flavor', 'prices_issale',\n",
              "       'prices_merchant', 'prices_offer', 'prices_returnpolicy',\n",
              "       'prices_shipping', 'prices_size', 'prices_source', 'prices_sourceurls',\n",
              "       'prices_warranty', 'quantities', 'reviews', 'sizes', 'skus',\n",
              "       'sourceurls', 'upc', 'vin', 'websiteids', 'weight'],\n",
              "      dtype='object')"
            ]
          },
          "metadata": {
            "tags": []
          },
          "execution_count": 6
        }
      ]
    },
    {
      "cell_type": "code",
      "metadata": {
        "id": "OH-wFnQ_-1au",
        "colab_type": "code",
        "colab": {}
      },
      "source": [
        "def run_model(feats, model = DecisionTreeRegressor(max_depth=5)):\n",
        "  X = df[feats].values\n",
        "  y = df['prices_amountmin'].values\n",
        "\n",
        "  scores = cross_val_score(model, X , y ,scoring = 'neg_mean_absolute_error')\n",
        "  return np.mean(scores), np.std(scores)"
      ],
      "execution_count": 0,
      "outputs": []
    },
    {
      "cell_type": "code",
      "metadata": {
        "id": "BGwPkRXZ_L9z",
        "colab_type": "code",
        "outputId": "202c5fb8-4016-4daa-a77e-9c823b7e96b6",
        "colab": {
          "base_uri": "https://localhost:8080/",
          "height": 35
        }
      },
      "source": [
        "df['brand_cat'] = df['brand'].map(lambda x: str(x).lower()).factorize()[0]\n",
        "run_model(['brand_cat'])"
      ],
      "execution_count": 8,
      "outputs": [
        {
          "output_type": "execute_result",
          "data": {
            "text/plain": [
              "(-58.133398968282776, 4.206122611474276)"
            ]
          },
          "metadata": {
            "tags": []
          },
          "execution_count": 8
        }
      ]
    },
    {
      "cell_type": "code",
      "metadata": {
        "id": "jYA-USR9_cXu",
        "colab_type": "code",
        "outputId": "7d0c730d-0bea-4567-f859-24cac3261c24",
        "colab": {
          "base_uri": "https://localhost:8080/",
          "height": 35
        }
      },
      "source": [
        "model = RandomForestRegressor(max_depth=5, n_estimators=100, random_state=0)\n",
        "run_model(['brand_cat'],model )\n"
      ],
      "execution_count": 9,
      "outputs": [
        {
          "output_type": "execute_result",
          "data": {
            "text/plain": [
              "(-57.31783843165656, 4.181246596160967)"
            ]
          },
          "metadata": {
            "tags": []
          },
          "execution_count": 9
        }
      ]
    },
    {
      "cell_type": "code",
      "metadata": {
        "id": "20xMeGybBBUV",
        "colab_type": "code",
        "outputId": "f42d4a6f-7548-4886-831f-d38edeb1ce9c",
        "colab": {
          "base_uri": "https://localhost:8080/",
          "height": 147
        }
      },
      "source": [
        "df.features.head().values"
      ],
      "execution_count": 10,
      "outputs": [
        {
          "output_type": "execute_result",
          "data": {
            "text/plain": [
              "array(['[{\"key\":\"Gender\",\"value\":[\"Men\"]},{\"key\":\"Shoe Size\",\"value\":[\"M\"]},{\"key\":\"Shoe Category\",\"value\":[\"Men\\'s Shoes\"]},{\"key\":\"Color\",\"value\":[\"Multicolor\"]},{\"key\":\"Manufacturer Part Number\",\"value\":[\"8190-W-NAVY-7.5\"]},{\"key\":\"Brand\",\"value\":[\"Josmo\"]}]',\n",
              "       '[{\"key\":\"Gender\",\"value\":[\"Men\"]},{\"key\":\"Shoe Size\",\"value\":[\"M\"]},{\"key\":\"Shoe Category\",\"value\":[\"Men\\'s Shoes\"]},{\"key\":\"Color\",\"value\":[\"Multicolor\"]},{\"key\":\"Manufacturer Part Number\",\"value\":[\"8190-W-NAVY-7.5\"]},{\"key\":\"Brand\",\"value\":[\"Josmo\"]}]',\n",
              "       '[{\"key\":\"Gender\",\"value\":[\"Men\"]},{\"key\":\"Color\",\"value\":[\"Black\"]},{\"key\":\"Shipping Weight (in pounds)\",\"value\":[\"0.45\"]},{\"key\":\"Condition\",\"value\":[\"New\"]},{\"key\":\"Brand\",\"value\":[\"SERVUS BY HONEYWELL\"]},{\"key\":\"manufacturer_part_number\",\"value\":[\"ZSR101BLMLG\"]}]',\n",
              "       '[{\"key\":\"Gender\",\"value\":[\"Men\"]},{\"key\":\"Color\",\"value\":[\"Black\"]},{\"key\":\"Shipping Weight (in pounds)\",\"value\":[\"0.45\"]},{\"key\":\"Condition\",\"value\":[\"New\"]},{\"key\":\"Brand\",\"value\":[\"SERVUS BY HONEYWELL\"]},{\"key\":\"manufacturer_part_number\",\"value\":[\"ZSR101BLMLG\"]}]',\n",
              "       '[{\"key\":\"Gender\",\"value\":[\"Men\"]},{\"key\":\"Color\",\"value\":[\"Black\"]},{\"key\":\"Shipping Weight (in pounds)\",\"value\":[\"0.45\"]},{\"key\":\"Condition\",\"value\":[\"New\"]},{\"key\":\"Brand\",\"value\":[\"SERVUS BY HONEYWELL\"]},{\"key\":\"manufacturer_part_number\",\"value\":[\"ZSR101BLMLG\"]}]'],\n",
              "      dtype=object)"
            ]
          },
          "metadata": {
            "tags": []
          },
          "execution_count": 10
        }
      ]
    },
    {
      "cell_type": "code",
      "metadata": {
        "id": "yChyH9kYGlcC",
        "colab_type": "code",
        "outputId": "c3e52c62-2c01-4faf-d16b-d22f86d10eba",
        "colab": {
          "base_uri": "https://localhost:8080/",
          "height": 35
        }
      },
      "source": [
        "test  = {'key': 'value'}\n",
        "test['key']\n",
        "str(test)"
      ],
      "execution_count": 11,
      "outputs": [
        {
          "output_type": "execute_result",
          "data": {
            "text/plain": [
              "\"{'key': 'value'}\""
            ]
          },
          "metadata": {
            "tags": []
          },
          "execution_count": 11
        }
      ]
    },
    {
      "cell_type": "code",
      "metadata": {
        "id": "UQ5NpRsfG6uH",
        "colab_type": "code",
        "outputId": "b1afc594-3132-450d-963d-7faf4c782ea5",
        "colab": {
          "base_uri": "https://localhost:8080/",
          "height": 127
        }
      },
      "source": [
        "str_dict = '[{\"key\":\"Gender\",\"value\":[\"Men\"]},{\"key\":\"Shoe Size\",\"value\":[\"M\"]},{\"key\":\"Shoe Category\",\"value\":[\"Men\\'s Shoes\"]},{\"key\":\"Color\",\"value\":[\"Multicolor\"]},{\"key\":\"Manufacturer Part Number\",\"value\":[\"8190-W-NAVY-7.5\"]},{\"key\":\"Brand\",\"value\":[\"Josmo\"]}]'\n",
        "literal_eval(str_dict)"
      ],
      "execution_count": 12,
      "outputs": [
        {
          "output_type": "execute_result",
          "data": {
            "text/plain": [
              "[{'key': 'Gender', 'value': ['Men']},\n",
              " {'key': 'Shoe Size', 'value': ['M']},\n",
              " {'key': 'Shoe Category', 'value': [\"Men's Shoes\"]},\n",
              " {'key': 'Color', 'value': ['Multicolor']},\n",
              " {'key': 'Manufacturer Part Number', 'value': ['8190-W-NAVY-7.5']},\n",
              " {'key': 'Brand', 'value': ['Josmo']}]"
            ]
          },
          "metadata": {
            "tags": []
          },
          "execution_count": 12
        }
      ]
    },
    {
      "cell_type": "code",
      "metadata": {
        "id": "yPbIHTUqHUPg",
        "colab_type": "code",
        "outputId": "0ad519ab-e15a-4316-fd38-d0f76406275a",
        "colab": {
          "base_uri": "https://localhost:8080/",
          "height": 35
        }
      },
      "source": [
        "literal_eval(str_dict)[0]['key']"
      ],
      "execution_count": 13,
      "outputs": [
        {
          "output_type": "execute_result",
          "data": {
            "text/plain": [
              "'Gender'"
            ]
          },
          "metadata": {
            "tags": []
          },
          "execution_count": 13
        }
      ]
    },
    {
      "cell_type": "code",
      "metadata": {
        "id": "wnli9eetHY7H",
        "colab_type": "code",
        "outputId": "8eb52120-e76b-4d73-cc0f-22e55c3001aa",
        "colab": {
          "base_uri": "https://localhost:8080/",
          "height": 35
        }
      },
      "source": [
        "literal_eval(str_dict)[0]['value']"
      ],
      "execution_count": 14,
      "outputs": [
        {
          "output_type": "execute_result",
          "data": {
            "text/plain": [
              "['Men']"
            ]
          },
          "metadata": {
            "tags": []
          },
          "execution_count": 14
        }
      ]
    },
    {
      "cell_type": "code",
      "metadata": {
        "id": "mha3YFWYHgUi",
        "colab_type": "code",
        "outputId": "6790d8b4-0443-49ec-f534-04939ad94037",
        "colab": {
          "base_uri": "https://localhost:8080/",
          "height": 35
        }
      },
      "source": [
        "literal_eval(str_dict)[0]['value'][0]"
      ],
      "execution_count": 15,
      "outputs": [
        {
          "output_type": "execute_result",
          "data": {
            "text/plain": [
              "'Men'"
            ]
          },
          "metadata": {
            "tags": []
          },
          "execution_count": 15
        }
      ]
    },
    {
      "cell_type": "code",
      "metadata": {
        "id": "JM4_tz0VHrlr",
        "colab_type": "code",
        "colab": {}
      },
      "source": [
        "def parse_features(x):\n",
        "  output_dict = {}\n",
        "  if str(x) == 'nan': return output_dict\n",
        "  features = literal_eval(x.replace('\\\\\"', '\"'))\n",
        "  for item in features:\n",
        "    key = item['key'].lower().strip()\n",
        "    value = item['value'][0].lower().strip()\n",
        "\n",
        "    output_dict[key] = value\n",
        "  return output_dict\n",
        "#{'key': 'Gender', 'value': ['Men']}\n",
        "df['features_parsed'] = df['features'].map(parse_features)\n"
      ],
      "execution_count": 0,
      "outputs": []
    },
    {
      "cell_type": "code",
      "metadata": {
        "id": "tDiS50L4MuFf",
        "colab_type": "code",
        "outputId": "e3a1317b-5caf-4810-eede-9cc08cb9bba6",
        "colab": {
          "base_uri": "https://localhost:8080/",
          "height": 147
        }
      },
      "source": [
        "df.features_parsed.head().values"
      ],
      "execution_count": 17,
      "outputs": [
        {
          "output_type": "execute_result",
          "data": {
            "text/plain": [
              "array([{'gender': 'men', 'shoe size': 'm', 'shoe category': \"men's shoes\", 'color': 'multicolor', 'manufacturer part number': '8190-w-navy-7.5', 'brand': 'josmo'},\n",
              "       {'gender': 'men', 'shoe size': 'm', 'shoe category': \"men's shoes\", 'color': 'multicolor', 'manufacturer part number': '8190-w-navy-7.5', 'brand': 'josmo'},\n",
              "       {'gender': 'men', 'color': 'black', 'shipping weight (in pounds)': '0.45', 'condition': 'new', 'brand': 'servus by honeywell', 'manufacturer_part_number': 'zsr101blmlg'},\n",
              "       {'gender': 'men', 'color': 'black', 'shipping weight (in pounds)': '0.45', 'condition': 'new', 'brand': 'servus by honeywell', 'manufacturer_part_number': 'zsr101blmlg'},\n",
              "       {'gender': 'men', 'color': 'black', 'shipping weight (in pounds)': '0.45', 'condition': 'new', 'brand': 'servus by honeywell', 'manufacturer_part_number': 'zsr101blmlg'}],\n",
              "      dtype=object)"
            ]
          },
          "metadata": {
            "tags": []
          },
          "execution_count": 17
        }
      ]
    },
    {
      "cell_type": "code",
      "metadata": {
        "id": "wjgVDVZGJLfS",
        "colab_type": "code",
        "outputId": "51f23c2b-4d2e-457e-fafe-934304222734",
        "colab": {
          "base_uri": "https://localhost:8080/",
          "height": 35
        }
      },
      "source": [
        "keys = set()\n",
        "\n",
        "df['features_parsed'].map(lambda x: keys.update(x.keys()))\n",
        "\n",
        "len(keys)"
      ],
      "execution_count": 18,
      "outputs": [
        {
          "output_type": "execute_result",
          "data": {
            "text/plain": [
              "476"
            ]
          },
          "metadata": {
            "tags": []
          },
          "execution_count": 18
        }
      ]
    },
    {
      "cell_type": "code",
      "metadata": {
        "id": "pxm9f0_sMNdm",
        "colab_type": "code",
        "outputId": "efd5c938-fe2c-442d-c960-b973b67e59fa",
        "colab": {
          "base_uri": "https://localhost:8080/",
          "height": 67,
          "referenced_widgets": [
            "b1a5b71cb639430d970d65e7554e6e2f",
            "4be989dc3c16464dbfe137d865055fb2",
            "39f96d82c1d1493092efa308b79bce10",
            "76f1e073335d4dadaffb2456f5b20d3a",
            "ed3a29c2aba2432fae79d4f3b1f375a5",
            "ebf261d44cc946f090e51974541c93d8",
            "cc739dffb57e4b27b6bbc8caad793e08",
            "b7a3f33dc906460294c2e022d7acddfc"
          ]
        }
      },
      "source": [
        "def get_name_feat(key):\n",
        "  return 'feat_' + key\n",
        "for key in tqdm_notebook(keys):\n",
        "  df[get_name_feat(key)] = df.features_parsed.map(lambda feats: feats[key] if key in feats else np.nan)"
      ],
      "execution_count": 19,
      "outputs": [
        {
          "output_type": "display_data",
          "data": {
            "application/vnd.jupyter.widget-view+json": {
              "model_id": "b1a5b71cb639430d970d65e7554e6e2f",
              "version_minor": 0,
              "version_major": 2
            },
            "text/plain": [
              "HBox(children=(IntProgress(value=0, max=476), HTML(value='')))"
            ]
          },
          "metadata": {
            "tags": []
          }
        },
        {
          "output_type": "stream",
          "text": [
            "\n"
          ],
          "name": "stdout"
        }
      ]
    },
    {
      "cell_type": "code",
      "metadata": {
        "id": "268lcQTuOmJ7",
        "colab_type": "code",
        "colab": {}
      },
      "source": [
        "keys_stat = {}\n",
        "for key in keys:\n",
        "  keys_stat[key] = df[False == df[get_name_feat(key)].isnull()].shape[0] / df.shape[0] * 100"
      ],
      "execution_count": 0,
      "outputs": []
    },
    {
      "cell_type": "code",
      "metadata": {
        "id": "4gAnGC2sJnqb",
        "colab_type": "code",
        "outputId": "188f8e9c-070b-428b-ce81-9b802383213a",
        "colab": {
          "base_uri": "https://localhost:8080/",
          "height": 109
        }
      },
      "source": [
        "{k:v for k,v in keys_stat.items() if v > 30}"
      ],
      "execution_count": 21,
      "outputs": [
        {
          "output_type": "execute_result",
          "data": {
            "text/plain": [
              "{'brand': 48.62691466083151,\n",
              " 'color': 47.784463894967175,\n",
              " 'gender': 50.17505470459519,\n",
              " 'manufacturer part number': 36.252735229759296,\n",
              " 'material': 34.9070021881838}"
            ]
          },
          "metadata": {
            "tags": []
          },
          "execution_count": 21
        }
      ]
    },
    {
      "cell_type": "code",
      "metadata": {
        "id": "9hh5Mc5BQlgn",
        "colab_type": "code",
        "colab": {}
      },
      "source": [
        "df['feat_brand_cat'] = df['feat_brand'].factorize()[0]\n",
        "df['feat_color_cat'] = df['feat_color'].factorize()[0]\n",
        "df['feat_gender_cat'] = df['feat_gender'].factorize()[0]\n",
        "df['feat_manufacturer part number_cat'] = df['feat_manufacturer part number'].factorize()[0]\n",
        "df['feat_material_cat'] = df['feat_material'].factorize()[0]\n",
        "\n",
        "df['feat_sport_cat'] = df['feat_sport'].factorize()[0]\n",
        "df['feat_style_cat'] = df['feat_style'].factorize()[0]\n",
        "\n",
        "for key in keys:\n",
        "  df[get_name_feat(key) + '_cat'] = df[get_name_feat(key)].factorize()[0]\n"
      ],
      "execution_count": 0,
      "outputs": []
    },
    {
      "cell_type": "code",
      "metadata": {
        "id": "u0o51nAoRv0r",
        "colab_type": "code",
        "outputId": "45744853-a73d-4bd6-e7e8-4d0c6467f131",
        "colab": {
          "base_uri": "https://localhost:8080/",
          "height": 206
        }
      },
      "source": [
        "df['brand'] = df['brand'].map(lambda x: str(x).lower())\n",
        "df[df.brand != df.feat_brand][['brand', 'feat_brand']].head()"
      ],
      "execution_count": 23,
      "outputs": [
        {
          "output_type": "execute_result",
          "data": {
            "text/html": [
              "<div>\n",
              "<style scoped>\n",
              "    .dataframe tbody tr th:only-of-type {\n",
              "        vertical-align: middle;\n",
              "    }\n",
              "\n",
              "    .dataframe tbody tr th {\n",
              "        vertical-align: top;\n",
              "    }\n",
              "\n",
              "    .dataframe thead th {\n",
              "        text-align: right;\n",
              "    }\n",
              "</style>\n",
              "<table border=\"1\" class=\"dataframe\">\n",
              "  <thead>\n",
              "    <tr style=\"text-align: right;\">\n",
              "      <th></th>\n",
              "      <th>brand</th>\n",
              "      <th>feat_brand</th>\n",
              "    </tr>\n",
              "  </thead>\n",
              "  <tbody>\n",
              "    <tr>\n",
              "      <th>21</th>\n",
              "      <td>rubies</td>\n",
              "      <td>generic</td>\n",
              "    </tr>\n",
              "    <tr>\n",
              "      <th>22</th>\n",
              "      <td>rubies</td>\n",
              "      <td>generic</td>\n",
              "    </tr>\n",
              "    <tr>\n",
              "      <th>23</th>\n",
              "      <td>rubies</td>\n",
              "      <td>generic</td>\n",
              "    </tr>\n",
              "    <tr>\n",
              "      <th>24</th>\n",
              "      <td>unbranded</td>\n",
              "      <td>NaN</td>\n",
              "    </tr>\n",
              "    <tr>\n",
              "      <th>31</th>\n",
              "      <td>american fighter</td>\n",
              "      <td>NaN</td>\n",
              "    </tr>\n",
              "  </tbody>\n",
              "</table>\n",
              "</div>"
            ],
            "text/plain": [
              "               brand feat_brand\n",
              "21            rubies    generic\n",
              "22            rubies    generic\n",
              "23            rubies    generic\n",
              "24         unbranded        NaN\n",
              "31  american fighter        NaN"
            ]
          },
          "metadata": {
            "tags": []
          },
          "execution_count": 23
        }
      ]
    },
    {
      "cell_type": "code",
      "metadata": {
        "id": "0oywqccwTIJ5",
        "colab_type": "code",
        "colab": {}
      },
      "source": [
        ""
      ],
      "execution_count": 0,
      "outputs": []
    },
    {
      "cell_type": "code",
      "metadata": {
        "id": "emp6wLg3QonR",
        "colab_type": "code",
        "outputId": "74981597-c776-463c-ef11-d057ca0a8cb1",
        "colab": {
          "base_uri": "https://localhost:8080/",
          "height": 35
        }
      },
      "source": [
        "model = RandomForestRegressor(max_depth=5, n_estimators=100)\n",
        "run_model(['brand_cat'], model)"
      ],
      "execution_count": 24,
      "outputs": [
        {
          "output_type": "execute_result",
          "data": {
            "text/plain": [
              "(-57.37072182133386, 4.174438920626576)"
            ]
          },
          "metadata": {
            "tags": []
          },
          "execution_count": 24
        }
      ]
    },
    {
      "cell_type": "code",
      "metadata": {
        "id": "urURh-pDwALC",
        "colab_type": "code",
        "colab": {
          "base_uri": "https://localhost:8080/",
          "height": 1000
        },
        "outputId": "ad23d32a-b6cf-48e7-9750-ddf3b9be522b"
      },
      "source": [
        "feats_cat = [x for x in df.columns if 'cat' in x]\n",
        "feats_cat"
      ],
      "execution_count": 42,
      "outputs": [
        {
          "output_type": "execute_result",
          "data": {
            "text/plain": [
              "['categories',\n",
              " 'brand_cat',\n",
              " 'feat_location - city/state',\n",
              " 'feat_certifications and listings',\n",
              " 'feat_clothing category',\n",
              " 'feat_location - country',\n",
              " 'feat_fabrication',\n",
              " 'feat_shoe category',\n",
              " 'feat_recommended location',\n",
              " 'feat_multi pack indicator',\n",
              " 'feat_catalog',\n",
              " 'feat_brand_cat',\n",
              " 'feat_color_cat',\n",
              " 'feat_gender_cat',\n",
              " 'feat_manufacturer part number_cat',\n",
              " 'feat_material_cat',\n",
              " 'feat_sport_cat',\n",
              " 'feat_style_cat',\n",
              " 'feat_labor_cat',\n",
              " 'feat_number of compartments_cat',\n",
              " 'feat_country of origin - components_cat',\n",
              " 'feat_pronation_cat',\n",
              " 'feat_case finish_cat',\n",
              " 'feat_lined_cat',\n",
              " 'feat_what includes_cat',\n",
              " 'feat_pocket_cat',\n",
              " 'feat_motion control_cat',\n",
              " 'feat_military style_cat',\n",
              " 'feat_is orthopedic_cat',\n",
              " 'feat_terrain_cat',\n",
              " 'feat_features_cat',\n",
              " 'feat_black_cat',\n",
              " 'feat_assembled product dimensions (l x w x h)_cat',\n",
              " 'feat_colour_cat',\n",
              " 'feat_height_cat',\n",
              " 'feat_impact resistant_cat',\n",
              " 'feat_date_cat',\n",
              " 'feat_metal type_cat',\n",
              " 'feat_resizable_cat',\n",
              " 'feat_location - city/state_cat',\n",
              " 'feat_age segment_cat',\n",
              " 'feat_part number_cat',\n",
              " 'feat_season_cat',\n",
              " 'feat_kids backpacks_cat',\n",
              " 'feat_alarm_cat',\n",
              " 'feat_profession_cat',\n",
              " 'feat_manufacturer sku_cat',\n",
              " 'feat_uv rating_cat',\n",
              " 'feat_shoe height_cat',\n",
              " 'feat_closure style_cat',\n",
              " 'feat_light transmission (vlt)_cat',\n",
              " 'feat_parts_cat',\n",
              " 'feat_eye protection type_cat',\n",
              " 'feat_fit:_cat',\n",
              " 'feat_date first available at amazon.co.uk_cat',\n",
              " 'feat_batteries required?_cat',\n",
              " 'feat_country/ organization_cat',\n",
              " 'feat_contains cubic zirconia_cat',\n",
              " 'feat_age gender group_cat',\n",
              " 'feat_country////region of manufacture_cat',\n",
              " 'feat_certifications and listings_cat',\n",
              " 'feat_footwear type_cat',\n",
              " 'feat_thick, warm, cozy_cat',\n",
              " 'feat_style code_cat',\n",
              " 'feat_uv protection_cat',\n",
              " 'feat_����������������_cat',\n",
              " 'feat_style name_cat',\n",
              " 'feat_case thickness_cat',\n",
              " 'feat_polarized lenses_cat',\n",
              " 'feat_display_cat',\n",
              " 'feat_msrp_cat',\n",
              " 'feat_machine washable_cat',\n",
              " 'feat_quantity in set_cat',\n",
              " 'feat_digital camera_cat',\n",
              " 'feat_authenticity_cat',\n",
              " 'feat_very popular bag now a days_cat',\n",
              " 'feat_front_cat',\n",
              " 'feat_bridge size:_cat',\n",
              " 'feat_hat style_cat',\n",
              " 'feat_used with equipment type_cat',\n",
              " 'feat_fishing_cat',\n",
              " 'feat_fabric material_cat',\n",
              " 'feat_combined shipping_cat',\n",
              " 'feat_is lined_cat',\n",
              " 'feat_mpn_cat',\n",
              " 'feat_manufacturer number_cat',\n",
              " 'feat_light weight_cat',\n",
              " 'feat_spikes type_cat',\n",
              " 'feat_band manufacturer_cat',\n",
              " 'feat_lining_cat',\n",
              " 'feat_frame depth_cat',\n",
              " 'feat_main colour_cat',\n",
              " 'feat_band material_cat',\n",
              " 'feat_golf shoe type_cat',\n",
              " 'feat_chain included_cat',\n",
              " 'feat_product name_cat',\n",
              " 'feat_closure_cat',\n",
              " 'feat_case type:_cat',\n",
              " 'feat_frame style_cat',\n",
              " 'feat_has mercury_cat',\n",
              " 'feat_atpv arc rating_cat',\n",
              " 'feat_cm_cat',\n",
              " 'feat_wash_cat',\n",
              " 'feat_resolution_cat',\n",
              " 'feat_fine or fashion_cat',\n",
              " 'feat_color family_cat',\n",
              " 'feat_heel height_cat',\n",
              " 'feat_ring size_cat',\n",
              " 'feat_measurements:_cat',\n",
              " 'feat_style:_cat',\n",
              " 'feat_retail price_cat',\n",
              " 'feat_capacity_cat',\n",
              " 'feat_insulated_cat',\n",
              " 'feat_frame color_cat',\n",
              " 'feat_applicable_cat',\n",
              " 'feat_sole_cat',\n",
              " 'feat_package_cat',\n",
              " 'feat_sizebridge_cat',\n",
              " 'feat_protection_cat',\n",
              " 'feat_neckline_cat',\n",
              " 'feat_charger included_cat',\n",
              " 'feat_year_cat',\n",
              " 'feat_ground_cat',\n",
              " 'feat_sku#_cat',\n",
              " 'feat_sub type_cat',\n",
              " 'feat_international shipping?_cat',\n",
              " 'feat_product id_cat',\n",
              " 'feat_mirrored_cat',\n",
              " 'feat_lining material_cat',\n",
              " 'feat_number of wheels_cat',\n",
              " 'feat_100% adidas authentic_cat',\n",
              " 'feat_item width_cat',\n",
              " 'feat_crystal_cat',\n",
              " 'feat_pattern_cat',\n",
              " 'feat_chest size_cat',\n",
              " 'feat_rise_cat',\n",
              " 'feat_compass_cat',\n",
              " 'feat_ul safety listing_cat',\n",
              " 'feat_case tone_cat',\n",
              " 'feat_count_cat',\n",
              " 'feat_shoe size_cat',\n",
              " 'feat_free item_cat',\n",
              " 'feat_fits most screen size_cat',\n",
              " 'feat_inseam_cat',\n",
              " 'feat_width_cat',\n",
              " 'feat_stone type_cat',\n",
              " 'feat_band length_cat',\n",
              " 'feat_assembled product weight_cat',\n",
              " 'feat_wheel type_cat',\n",
              " 'feat_lens technology_cat',\n",
              " 'feat_shirt size_cat',\n",
              " 'feat_number of items_cat',\n",
              " 'feat_battery voltage_cat',\n",
              " 'feat_is wheeled_cat',\n",
              " 'feat_waist size_cat',\n",
              " 'feat_battery type_cat',\n",
              " 'feat_power type_cat',\n",
              " 'feat_assembled in country of origin_cat',\n",
              " 'feat_casing_cat',\n",
              " 'feat_frame material_cat',\n",
              " 'feat_sku_cat',\n",
              " 'feat_wheeled_cat',\n",
              " 'feat_era_cat',\n",
              " 'feat_audience_cat',\n",
              " 'feat_issued/ not-issued_cat',\n",
              " 'feat_auto_cat',\n",
              " 'feat_metal stamp_cat',\n",
              " 'feat_clothing category_cat',\n",
              " 'feat_charge time (minutes)_cat',\n",
              " 'feat_animal type_cat',\n",
              " 'feat_stability_cat',\n",
              " 'feat_country of origin - assembly_cat',\n",
              " 'feat_is polarized_cat',\n",
              " 'feat_display technology_cat',\n",
              " 'feat_foot arch_cat',\n",
              " 'feat_comfort technology_cat',\n",
              " 'feat_band type_cat',\n",
              " 'feat_jewelry setting_cat',\n",
              " 'feat_reinforced knee_cat',\n",
              " 'feat_heat zones_cat',\n",
              " 'feat_case diameter_cat',\n",
              " 'feat_product type_cat',\n",
              " 'feat_hunting_cat',\n",
              " 'feat_clothing product type_cat',\n",
              " 'feat_safety feature_cat',\n",
              " 'feat_chronograph_cat',\n",
              " 'feat_series name_cat',\n",
              " 'feat_lens material_cat',\n",
              " 'feat_seller inventory number_cat',\n",
              " 'feat_hood_cat',\n",
              " 'feat_case back_cat',\n",
              " 'feat_shoe closure_cat',\n",
              " 'feat_lens width_cat',\n",
              " 'feat_packageweight_cat',\n",
              " 'feat_genre_cat',\n",
              " 'feat_global composite sports type_cat',\n",
              " 'feat_size_cat',\n",
              " 'feat_boot height_cat',\n",
              " 'feat_fabric care_cat',\n",
              " 'feat_location - country_cat',\n",
              " 'feat_material detail-1_cat',\n",
              " 'feat_high visibility (ansi compliant)_cat',\n",
              " 'feat_polarized?_cat',\n",
              " 'feat_is energy star-certified_cat',\n",
              " 'feat_is recyclable_cat',\n",
              " 'feat_hands_cat',\n",
              " 'feat_country//region of manufacture_cat',\n",
              " 'feat_safety features_cat',\n",
              " 'feat_international shipping_cat',\n",
              " 'feat_fits over eyeglasses_cat',\n",
              " 'feat_name_cat',\n",
              " 'feat_flame resistant_cat',\n",
              " 'feat_fit to_cat',\n",
              " 'feat_band length (in.)_cat',\n",
              " 'feat_wind resistant_cat',\n",
              " 'feat_polarized_cat',\n",
              " 'feat_removable liner_cat',\n",
              " 'feat_leg_cat',\n",
              " 'feat_length_cat',\n",
              " 'feat_made in_cat',\n",
              " 'feat_sports league_cat',\n",
              " 'feat_item weight_cat',\n",
              " 'feat_shipping weight (in pounds)_cat',\n",
              " 'feat_leg opening:_cat',\n",
              " 'feat_is weather-resistant_cat',\n",
              " 'feat_video game platform_cat',\n",
              " 'feat_type of sole_cat',\n",
              " 'feat_movement_cat',\n",
              " 'feat_gps_cat',\n",
              " 'feat_frame type_cat',\n",
              " 'feat_weight_cat',\n",
              " 'feat_insulation_cat',\n",
              " 'feat_resolution megapixels_cat',\n",
              " 'feat_origin of components_cat',\n",
              " 'feat_clothing size_cat',\n",
              " 'feat_fits models_cat',\n",
              " 'feat_contained battery type_cat',\n",
              " 'feat_fabric content_cat',\n",
              " 'feat_country of manufacturer_cat',\n",
              " 'feat_batteries included?_cat',\n",
              " 'feat_chain length_cat',\n",
              " 'feat_stylenumber_cat',\n",
              " 'feat_is waterproof_cat',\n",
              " 'feat_mechanic_cat',\n",
              " 'feat_tactical_cat',\n",
              " 'feat_guaranteed authentic_cat',\n",
              " 'feat_carats_cat',\n",
              " 'feat_number of pockets_cat',\n",
              " 'feat_nike product #_cat',\n",
              " 'feat_shape_cat',\n",
              " 'feat_szie_cat',\n",
              " 'feat_work shoes_cat',\n",
              " 'feat_age start_cat',\n",
              " 'feat_style number_cat',\n",
              " 'feat_crown_cat',\n",
              " 'feat_lens tint_cat',\n",
              " 'feat_finish_cat',\n",
              " 'feat_size/dimensions_cat',\n",
              " 'feat_date first available at amazon.ca_cat',\n",
              " 'feat_lens color_cat',\n",
              " 'feat_age end_cat',\n",
              " 'feat_fabric type_cat',\n",
              " 'feat_sleeve style_cat',\n",
              " 'feat_chain/necklace length (in.)_cat',\n",
              " 'feat_item character_cat',\n",
              " 'feat_model_cat',\n",
              " 'feat_primary color_cat',\n",
              " 'feat_interior pockets_cat',\n",
              " 'feat_bed size_cat',\n",
              " 'feat_type_cat',\n",
              " 'feat_net weight_cat',\n",
              " 'feat_sleeve length_cat',\n",
              " 'feat_includes_cat',\n",
              " 'feat_fabric_cat',\n",
              " 'feat_label_cat',\n",
              " 'feat_is water-resistant_cat',\n",
              " 'feat_compatible devices_cat',\n",
              " 'feat_manufacturer_cat',\n",
              " 'feat_item color_cat',\n",
              " 'feat_primary shelf id_cat',\n",
              " 'feat_has paper wood_cat',\n",
              " 'feat_fabrication_cat',\n",
              " 'feat_main color_cat',\n",
              " 'feat_garment care_cat',\n",
              " 'feat_overall material_cat',\n",
              " 'feat_amazonbestsellersrank_cat',\n",
              " 'feat_fits styles_cat',\n",
              " 'feat_item spec attr - style (ebay)_cat',\n",
              " 'feat_subdial_cat',\n",
              " 'feat_article_cat',\n",
              " 'feat_cleaning, care & maintenance_cat',\n",
              " 'feat_shipping weight_cat',\n",
              " 'feat_band color_cat',\n",
              " 'feat_number of batteries included_cat',\n",
              " 'feat_shoe category_cat',\n",
              " 'feat_leather :_cat',\n",
              " 'feat_walmart no._cat',\n",
              " 'feat_pattern or design_cat',\n",
              " 'feat_attachment_cat',\n",
              " 'feat_lens type_cat',\n",
              " 'feat_polarised_cat',\n",
              " 'feat_shade_cat',\n",
              " 'feat_material type_cat',\n",
              " 'feat_age_cat',\n",
              " 'feat_watch case shape_cat',\n",
              " 'feat_gemstone type_cat',\n",
              " 'feat_enhanced visibility (reflective)_cat',\n",
              " 'feat_lens material:_cat',\n",
              " 'feat_mpn#_cat',\n",
              " 'feat_chest_cat',\n",
              " 'feat_batteries required_cat',\n",
              " 'feat_dial color_cat',\n",
              " 'feat_expandable_cat',\n",
              " 'feat_model no._cat',\n",
              " 'feat_sock size_cat',\n",
              " 'feat_diamond color_cat',\n",
              " 'feat_designed for_cat',\n",
              " 'feat_case type_cat',\n",
              " 'feat_target audience_cat',\n",
              " 'feat_product dimensions_cat',\n",
              " 'feat_licensed_cat',\n",
              " 'feat_is dark sky-compliant_cat',\n",
              " 'feat_item style_cat',\n",
              " 'feat_pant style_cat',\n",
              " 'feat_isbn_cat',\n",
              " 'feat_diameter_cat',\n",
              " 'feat_instrument_cat',\n",
              " 'feat_country/region of manufacture_cat',\n",
              " 'feat_face shape_cat',\n",
              " 'feat_color/finish family_cat',\n",
              " 'feat_stock no._cat',\n",
              " 'feat_conflict_cat',\n",
              " 'feat_number of pieces_cat',\n",
              " 'feat_occasion_cat',\n",
              " 'feat_eyewear frame style_cat',\n",
              " 'feat_toe type_cat',\n",
              " 'feat_sports team_cat',\n",
              " 'feat_best sellers rank_cat',\n",
              " 'feat_antiscratch lens coating_cat',\n",
              " 'feat_model number_cat',\n",
              " 'feat_shipping to usa_cat',\n",
              " 'feat_necklace type_cat',\n",
              " 'feat_suitable for_cat',\n",
              " 'feat_recommended location_cat',\n",
              " 'feat_clothing type_cat',\n",
              " 'feat_airport friendly_cat',\n",
              " 'feat_dial markers_cat',\n",
              " 'feat_ring style_cat',\n",
              " 'feat_adidas_cat',\n",
              " 'feat_euro size_cat',\n",
              " 'feat_dial material_cat',\n",
              " 'feat_cushioning_cat',\n",
              " 'feat_material composition_cat',\n",
              " 'feat_metal color_cat',\n",
              " 'feat_item type_cat',\n",
              " 'feat_country of origin assembly:_cat',\n",
              " 'feat_fastener_cat',\n",
              " 'feat_temple size:_cat',\n",
              " 'feat_country of manufacture_cat',\n",
              " 'feat_bezel_cat',\n",
              " 'feat_arm_cat',\n",
              " 'feat_disclosures_cat',\n",
              " 'feat_материал_cat',\n",
              " 'feat_ean_cat',\n",
              " 'feat_type 2_cat',\n",
              " 'feat_full product manual_cat',\n",
              " 'feat_auto shut-off_cat',\n",
              " 'feat_general warranty_cat',\n",
              " 'feat_transactionid_cat',\n",
              " 'feat_clothing size type_cat',\n",
              " 'feat_vehicle type_cat',\n",
              " 'feat_product in inches (l x w x h)_cat',\n",
              " 'feat_character_cat',\n",
              " 'feat_water-resistant_cat',\n",
              " 'feat_leather grade_cat',\n",
              " 'feat_to fit_cat',\n",
              " 'feat_upper material_cat',\n",
              " 'feat_multi pack indicator_cat',\n",
              " 'feat_fuel type_cat',\n",
              " 'feat_smart watch_cat',\n",
              " 'feat_reinforced pockets_cat',\n",
              " 'feat_power reserve_cat',\n",
              " 'feat_domestic shipping_cat',\n",
              " 'feat_hammer loop_cat',\n",
              " 'feat_dimensions_cat',\n",
              " 'feat_lens color family_cat',\n",
              " 'feat_removable hood_cat',\n",
              " 'feat_eye size:_cat',\n",
              " 'feat_contains batteries_cat',\n",
              " 'feat_case material_cat',\n",
              " 'feat_shoe fastening type_cat',\n",
              " 'feat_heart rate monitor_cat',\n",
              " 'feat_lens_cat',\n",
              " 'feat_protects against_cat',\n",
              " 'feat_productgroup_cat',\n",
              " 'feat_features & fastening_cat',\n",
              " 'feat_watch shape_cat',\n",
              " 'feat_design_cat',\n",
              " 'feat_hardsided or softsided_cat',\n",
              " 'feat_athlete_cat',\n",
              " 'feat_use_cat',\n",
              " 'feat_nickel free_cat',\n",
              " 'feat_bridge_cat',\n",
              " 'feat_temple length_cat',\n",
              " 'feat_place of origin_cat',\n",
              " 'feat_hairstyle_cat',\n",
              " 'feat_weather resistant_cat',\n",
              " 'feat_waist_cat',\n",
              " 'feat_catalog_cat',\n",
              " 'feat_special features_cat',\n",
              " 'feat_gold karat_cat',\n",
              " 'feat_year made_cat',\n",
              " 'feat_band width_cat',\n",
              " 'feat_elastic banded waist_cat',\n",
              " 'feat_bag size range_cat',\n",
              " 'feat_vendor description_cat',\n",
              " 'feat_nike id_cat',\n",
              " 'feat_clasp type_cat',\n",
              " 'feat_age group_cat',\n",
              " 'feat_technician_cat',\n",
              " 'feat_has expiration_cat',\n",
              " 'feat_looks best on these face shapes:_cat',\n",
              " 'feat_autographed_cat',\n",
              " 'feat_weather-resistant_cat',\n",
              " 'feat_purpose_cat',\n",
              " 'feat_manufacturer_part_number_cat',\n",
              " 'feat_recommended use_cat',\n",
              " 'feat_date first available_cat',\n",
              " 'feat_waterproof_cat',\n",
              " 'feat_item package quantity_cat',\n",
              " 'feat_fits brands_cat',\n",
              " 'feat_has adaptive lenses_cat',\n",
              " 'feat_front style_cat',\n",
              " 'feat_fastener type_cat',\n",
              " 'feat_jacket length_cat',\n",
              " 'feat_color mapping_cat',\n",
              " 'feat_materials_cat',\n",
              " 'feat_fit_cat',\n",
              " 'feat_accessory type_cat',\n",
              " 'feat_bridge/temple size:_cat',\n",
              " 'feat_outer material_cat',\n",
              " 'feat_bridge width_cat',\n",
              " 'feat_sock style_cat',\n",
              " 'feat_navy blue_cat',\n",
              " 'feat_sku number_cat',\n",
              " 'feat_part type_cat',\n",
              " 'feat_fits model_cat',\n",
              " 'feat_variant group id_cat',\n",
              " 'feat_age range_cat',\n",
              " 'feat_characteristics_cat',\n",
              " 'feat_shoe width_cat',\n",
              " 'feat_diamond clarity_cat',\n",
              " 'feat_construction_cat',\n",
              " 'feat_lens socket width_cat',\n",
              " 'feat_product #_cat',\n",
              " 'feat_release_cat',\n",
              " 'feat_casual & dress shoe style_cat',\n",
              " 'feat_sub style_cat',\n",
              " 'feat_fabric care instructions_cat',\n",
              " 'feat_water resistant_cat',\n",
              " 'feat_colour code_cat',\n",
              " 'feat_watch band material_cat',\n",
              " 'feat_sizearm_cat',\n",
              " 'feat_box_cat',\n",
              " 'feat_item weight unit of measure_cat',\n",
              " 'feat_boxed-product dimensions_cat',\n",
              " 'feat_bracelet style_cat',\n",
              " 'feat_picture_cat',\n",
              " 'feat_is portable_cat',\n",
              " 'feat_frame material:_cat',\n",
              " 'feat_adjustable_cat',\n",
              " 'feat_watch power source_cat',\n",
              " 'feat_watch style_cat',\n",
              " 'feat_country of origin components:_cat',\n",
              " 'feat_style #_cat',\n",
              " 'feat_safety apparel product type_cat',\n",
              " 'feat_designer_cat',\n",
              " 'feat_country of origin_cat',\n",
              " 'feat_rx-able_cat',\n",
              " 'feat_hooded_cat',\n",
              " 'feat_theme_cat',\n",
              " 'feat_feature_cat',\n",
              " 'feat_inv_cat',\n",
              " 'feat_number of heat settings_cat',\n",
              " 'feat_condition_cat',\n",
              " 'feat_frame shape_cat',\n",
              " 'feat_handbag style_cat']"
            ]
          },
          "metadata": {
            "tags": []
          },
          "execution_count": 42
        }
      ]
    },
    {
      "cell_type": "code",
      "metadata": {
        "id": "eqFbqrDpTvPe",
        "colab_type": "code",
        "colab": {}
      },
      "source": [
        "feats = ['brand_cat', 'feat_metal type_cat' ,'feat_brand_cat','feat_gender_cat','feat_material_cat','feat_movement_cat', 'feat_adjustable_cat', 'feat_resizable_cat','feat_case diameter_cat']\n",
        "#feats += feats_cat\n",
        "#feats = list(set(feats))\n",
        "\n",
        "model = RandomForestRegressor(max_depth=5, n_estimators=100)\n",
        "result = run_model(feats, model)"
      ],
      "execution_count": 0,
      "outputs": []
    },
    {
      "cell_type": "code",
      "metadata": {
        "id": "C-j0SGbY1pJb",
        "colab_type": "code",
        "colab": {}
      },
      "source": [
        ""
      ],
      "execution_count": 0,
      "outputs": []
    },
    {
      "cell_type": "code",
      "metadata": {
        "id": "FotozzTyUjPM",
        "colab_type": "code",
        "colab": {
          "base_uri": "https://localhost:8080/",
          "height": 209
        },
        "outputId": "cc214f02-aa10-4931-aab0-f02564f68d7d"
      },
      "source": [
        "X = df[feats].values\n",
        "y = df['prices_amountmin'].values\n",
        "\n",
        "m = model = RandomForestRegressor(max_depth=5, n_estimators=100, random_state=0)\n",
        "m.fit(X, y)\n",
        "print(result)\n",
        "perm = PermutationImportance(m, random_state=1).fit(X, y);\n",
        "eli5.show_weights(perm, feature_names=feats)"
      ],
      "execution_count": 61,
      "outputs": [
        {
          "output_type": "stream",
          "text": [
            "(-57.38072445212265, 4.180312315408581)\n"
          ],
          "name": "stdout"
        },
        {
          "output_type": "execute_result",
          "data": {
            "text/html": [
              "\n",
              "    <style>\n",
              "    table.eli5-weights tr:hover {\n",
              "        filter: brightness(85%);\n",
              "    }\n",
              "</style>\n",
              "\n",
              "\n",
              "\n",
              "    \n",
              "\n",
              "    \n",
              "\n",
              "    \n",
              "\n",
              "    \n",
              "\n",
              "    \n",
              "\n",
              "    \n",
              "\n",
              "\n",
              "    \n",
              "\n",
              "    \n",
              "\n",
              "    \n",
              "\n",
              "    \n",
              "\n",
              "    \n",
              "\n",
              "    \n",
              "\n",
              "\n",
              "    \n",
              "\n",
              "    \n",
              "\n",
              "    \n",
              "\n",
              "    \n",
              "\n",
              "    \n",
              "        <table class=\"eli5-weights eli5-feature-importances\" style=\"border-collapse: collapse; border: none; margin-top: 0em; table-layout: auto;\">\n",
              "    <thead>\n",
              "    <tr style=\"border: none;\">\n",
              "        <th style=\"padding: 0 1em 0 0.5em; text-align: right; border: none;\">Weight</th>\n",
              "        <th style=\"padding: 0 0.5em 0 0.5em; text-align: left; border: none;\">Feature</th>\n",
              "    </tr>\n",
              "    </thead>\n",
              "    <tbody>\n",
              "    \n",
              "        <tr style=\"background-color: hsl(120, 100.00%, 80.00%); border: none;\">\n",
              "            <td style=\"padding: 0 1em 0 0.5em; text-align: right; border: none;\">\n",
              "                0.2564\n",
              "                \n",
              "                    &plusmn; 0.0121\n",
              "                \n",
              "            </td>\n",
              "            <td style=\"padding: 0 0.5em 0 0.5em; text-align: left; border: none;\">\n",
              "                brand_cat\n",
              "            </td>\n",
              "        </tr>\n",
              "    \n",
              "        <tr style=\"background-color: hsl(120, 100.00%, 89.00%); border: none;\">\n",
              "            <td style=\"padding: 0 1em 0 0.5em; text-align: right; border: none;\">\n",
              "                0.1091\n",
              "                \n",
              "                    &plusmn; 0.0068\n",
              "                \n",
              "            </td>\n",
              "            <td style=\"padding: 0 0.5em 0 0.5em; text-align: left; border: none;\">\n",
              "                feat_material_cat\n",
              "            </td>\n",
              "        </tr>\n",
              "    \n",
              "        <tr style=\"background-color: hsl(120, 100.00%, 96.96%); border: none;\">\n",
              "            <td style=\"padding: 0 1em 0 0.5em; text-align: right; border: none;\">\n",
              "                0.0174\n",
              "                \n",
              "                    &plusmn; 0.0015\n",
              "                \n",
              "            </td>\n",
              "            <td style=\"padding: 0 0.5em 0 0.5em; text-align: left; border: none;\">\n",
              "                feat_brand_cat\n",
              "            </td>\n",
              "        </tr>\n",
              "    \n",
              "        <tr style=\"background-color: hsl(120, 100.00%, 98.22%); border: none;\">\n",
              "            <td style=\"padding: 0 1em 0 0.5em; text-align: right; border: none;\">\n",
              "                0.0081\n",
              "                \n",
              "                    &plusmn; 0.0025\n",
              "                \n",
              "            </td>\n",
              "            <td style=\"padding: 0 0.5em 0 0.5em; text-align: left; border: none;\">\n",
              "                feat_adjustable_cat\n",
              "            </td>\n",
              "        </tr>\n",
              "    \n",
              "        <tr style=\"background-color: hsl(120, 100.00%, 98.26%); border: none;\">\n",
              "            <td style=\"padding: 0 1em 0 0.5em; text-align: right; border: none;\">\n",
              "                0.0078\n",
              "                \n",
              "                    &plusmn; 0.0022\n",
              "                \n",
              "            </td>\n",
              "            <td style=\"padding: 0 0.5em 0 0.5em; text-align: left; border: none;\">\n",
              "                feat_resizable_cat\n",
              "            </td>\n",
              "        </tr>\n",
              "    \n",
              "        <tr style=\"background-color: hsl(120, 100.00%, 98.31%); border: none;\">\n",
              "            <td style=\"padding: 0 1em 0 0.5em; text-align: right; border: none;\">\n",
              "                0.0075\n",
              "                \n",
              "                    &plusmn; 0.0010\n",
              "                \n",
              "            </td>\n",
              "            <td style=\"padding: 0 0.5em 0 0.5em; text-align: left; border: none;\">\n",
              "                feat_metal type_cat\n",
              "            </td>\n",
              "        </tr>\n",
              "    \n",
              "        <tr style=\"background-color: hsl(120, 100.00%, 98.32%); border: none;\">\n",
              "            <td style=\"padding: 0 1em 0 0.5em; text-align: right; border: none;\">\n",
              "                0.0074\n",
              "                \n",
              "                    &plusmn; 0.0012\n",
              "                \n",
              "            </td>\n",
              "            <td style=\"padding: 0 0.5em 0 0.5em; text-align: left; border: none;\">\n",
              "                feat_gender_cat\n",
              "            </td>\n",
              "        </tr>\n",
              "    \n",
              "        <tr style=\"background-color: hsl(120, 100.00%, 98.66%); border: none;\">\n",
              "            <td style=\"padding: 0 1em 0 0.5em; text-align: right; border: none;\">\n",
              "                0.0054\n",
              "                \n",
              "                    &plusmn; 0.0005\n",
              "                \n",
              "            </td>\n",
              "            <td style=\"padding: 0 0.5em 0 0.5em; text-align: left; border: none;\">\n",
              "                feat_case diameter_cat\n",
              "            </td>\n",
              "        </tr>\n",
              "    \n",
              "        <tr style=\"background-color: hsl(120, 100.00%, 98.89%); border: none;\">\n",
              "            <td style=\"padding: 0 1em 0 0.5em; text-align: right; border: none;\">\n",
              "                0.0041\n",
              "                \n",
              "                    &plusmn; 0.0002\n",
              "                \n",
              "            </td>\n",
              "            <td style=\"padding: 0 0.5em 0 0.5em; text-align: left; border: none;\">\n",
              "                feat_movement_cat\n",
              "            </td>\n",
              "        </tr>\n",
              "    \n",
              "    \n",
              "    </tbody>\n",
              "</table>\n",
              "    \n",
              "\n",
              "    \n",
              "\n",
              "\n",
              "    \n",
              "\n",
              "    \n",
              "\n",
              "    \n",
              "\n",
              "    \n",
              "\n",
              "    \n",
              "\n",
              "    \n",
              "\n",
              "\n",
              "\n"
            ],
            "text/plain": [
              "<IPython.core.display.HTML object>"
            ]
          },
          "metadata": {
            "tags": []
          },
          "execution_count": 61
        }
      ]
    },
    {
      "cell_type": "code",
      "metadata": {
        "id": "YAbTFv2utGsZ",
        "colab_type": "code",
        "colab": {
          "base_uri": "https://localhost:8080/",
          "height": 237
        },
        "outputId": "52cbb1d4-b718-4833-d31b-5e4d44232a7a"
      },
      "source": [
        "df['brand'].value_counts(normalize=True)"
      ],
      "execution_count": 33,
      "outputs": [
        {
          "output_type": "execute_result",
          "data": {
            "text/plain": [
              "nike                                 0.097210\n",
              "puma                                 0.033315\n",
              "ralph lauren                         0.028775\n",
              "vans                                 0.021116\n",
              "new balance                          0.020295\n",
              "                                       ...   \n",
              "under armor                          0.000055\n",
              "whose lemon                          0.000055\n",
              "american eagle                       0.000055\n",
              "mr.chaos                             0.000055\n",
              "it's always sunny in philadelphia    0.000055\n",
              "Name: brand, Length: 1732, dtype: float64"
            ]
          },
          "metadata": {
            "tags": []
          },
          "execution_count": 33
        }
      ]
    },
    {
      "cell_type": "code",
      "metadata": {
        "id": "-wbarUhPtj2q",
        "colab_type": "code",
        "colab": {
          "base_uri": "https://localhost:8080/",
          "height": 109
        },
        "outputId": "53ca8bce-4958-46a9-e4bc-b994a9ba7052"
      },
      "source": [
        "df[df['brand'] == 'nike'].features_parsed.head().values"
      ],
      "execution_count": 34,
      "outputs": [
        {
          "output_type": "execute_result",
          "data": {
            "text/plain": [
              "array([{'sport': 'soccer', 'main color': 'orange', 'type': 'cleats', 'condition': 'new without box'},\n",
              "       {'sport': 'soccer', 'main color': 'orange', 'type': 'cleats', 'condition': 'new without box'},\n",
              "       {'sport': 'soccer', 'main color': 'orange', 'type': 'cleats', 'condition': 'new without box'},\n",
              "       {'style': 'athletic sneakers', 'condition': 'new with box'}, {}],\n",
              "      dtype=object)"
            ]
          },
          "metadata": {
            "tags": []
          },
          "execution_count": 34
        }
      ]
    },
    {
      "cell_type": "code",
      "metadata": {
        "id": "7X-QwlpB4KeK",
        "colab_type": "code",
        "colab": {
          "base_uri": "https://localhost:8080/",
          "height": 35
        },
        "outputId": "6591ba27-af3e-42d2-d231-402535a75f3d"
      },
      "source": [
        "!git add matrix_one/matrix_day5.ipynb"
      ],
      "execution_count": 69,
      "outputs": [
        {
          "output_type": "stream",
          "text": [
            "fatal: pathspec 'matrix_one/matrix_day5.ipynb' did not match any files\n"
          ],
          "name": "stdout"
        }
      ]
    },
    {
      "cell_type": "code",
      "metadata": {
        "id": "lfsEyx3Q270D",
        "colab_type": "code",
        "colab": {}
      },
      "source": [
        "  !git config --global user.email \"s.szymborski@op.pl\"\n",
        "  !git config --global user.name \"s_szymborski\""
      ],
      "execution_count": 0,
      "outputs": []
    },
    {
      "cell_type": "code",
      "metadata": {
        "id": "6QHQW0LV4Zro",
        "colab_type": "code",
        "colab": {
          "base_uri": "https://localhost:8080/",
          "height": 35
        },
        "outputId": "d6cf2ce3-2165-4f32-d84b-5a92318e3913"
      },
      "source": [
        "!git add matrix_one/matrix_day5.ipynb"
      ],
      "execution_count": 71,
      "outputs": [
        {
          "output_type": "stream",
          "text": [
            "fatal: pathspec 'matrix_one/matrix_day5.ipynb' did not match any files\n"
          ],
          "name": "stdout"
        }
      ]
    },
    {
      "cell_type": "code",
      "metadata": {
        "id": "Wx0GiceO2_mG",
        "colab_type": "code",
        "colab": {
          "base_uri": "https://localhost:8080/",
          "height": 54
        },
        "outputId": "2e500c6c-1cd4-4e11-a23d-778be495c68c"
      },
      "source": [
        "!git push -u origin master"
      ],
      "execution_count": 72,
      "outputs": [
        {
          "output_type": "stream",
          "text": [
            "Branch 'master' set up to track remote branch 'master' from 'origin'.\n",
            "Everything up-to-date\n"
          ],
          "name": "stdout"
        }
      ]
    }
  ]
}